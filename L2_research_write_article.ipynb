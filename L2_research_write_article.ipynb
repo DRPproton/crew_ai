{
 "cells": [
  {
   "cell_type": "markdown",
   "metadata": {},
   "source": [
    "You can download the `requirements.txt` for this course from the workspace of this lab. `File --> Open...`"
   ]
  },
  {
   "cell_type": "markdown",
   "metadata": {},
   "source": [
    "# L2: Create Agents to Research and Write an Article\n",
    "\n",
    "In this lesson, you will be introduced to the foundational concepts of multi-agent systems and get an overview of the crewAI framework."
   ]
  },
  {
   "cell_type": "markdown",
   "metadata": {},
   "source": [
    "The libraries are already installed in the classroom. If you're running this notebook on your own machine, you can install the following:\n",
    "```Python\n",
    "!pip install crewai==0.28.8 crewai_tools==0.1.6 langchain_community==0.0.29\n",
    "```"
   ]
  },
  {
   "cell_type": "code",
   "execution_count": 1,
   "metadata": {},
   "outputs": [],
   "source": [
    "#!pip install crewai==0.28.8 crewai_tools==0.1.6 langchain_community==0.0.29"
   ]
  },
  {
   "cell_type": "code",
   "execution_count": 1,
   "metadata": {
    "height": 64
   },
   "outputs": [],
   "source": [
    "# Warning control\n",
    "import warnings\n",
    "warnings.filterwarnings('ignore')"
   ]
  },
  {
   "cell_type": "markdown",
   "metadata": {},
   "source": [
    "- Import from the crewAI libray."
   ]
  },
  {
   "cell_type": "code",
   "execution_count": 2,
   "metadata": {
    "height": 30
   },
   "outputs": [],
   "source": [
    "from crewai import Agent, Task, Crew"
   ]
  },
  {
   "cell_type": "markdown",
   "metadata": {},
   "source": [
    "- As a LLM for your agents, you'll be using OpenAI's `gpt-3.5-turbo`.\n",
    "\n",
    "**Optional Note:** crewAI also allow other popular models to be used as a LLM for your Agents. You can see some of the examples at the [bottom of the notebook](#1)."
   ]
  },
  {
   "cell_type": "code",
   "execution_count": 17,
   "metadata": {},
   "outputs": [],
   "source": [
    "from langchain_community.llms import HuggingFaceHub\n",
    "\n",
    "llm = HuggingFaceHub(\n",
    "    repo_id=\"https://huggingface.co/meta-llama/Meta-Llama-3-8B\",\n",
    "    huggingfacehub_api_token=\"\",\n",
    "    task=\"text-generation\",\n",
    ")"
   ]
  },
  {
   "cell_type": "code",
   "execution_count": 4,
   "metadata": {
    "height": 98
   },
   "outputs": [],
   "source": [
    "import os\n",
    "from utils import get_openai_api_key\n",
    "\n",
    "openai_api_key = get_openai_api_key()\n",
    "os.environ[\"OPENAI_MODEL_NAME\"] = 'gpt-3.5-turbo'"
   ]
  },
  {
   "cell_type": "markdown",
   "metadata": {},
   "source": [
    "## Creating Agents\n",
    "\n",
    "- Define your Agents, and provide them a `role`, `goal` and `backstory`.\n",
    "- It has been seen that LLMs perform better when they are role playing."
   ]
  },
  {
   "cell_type": "markdown",
   "metadata": {},
   "source": [
    "### Agent: Planner\n",
    "\n",
    "**Note**: The benefit of using _multiple strings_ :\n",
    "```Python\n",
    "varname = \"line 1 of text\"\n",
    "          \"line 2 of text\"\n",
    "```\n",
    "\n",
    "versus the _triple quote docstring_:\n",
    "```Python\n",
    "varname = \"\"\"line 1 of text\n",
    "             line 2 of text\n",
    "          \"\"\"\n",
    "```\n",
    "is that it can avoid adding those whitespaces and newline characters, making it better formatted to be passed to the LLM."
   ]
  },
  {
   "cell_type": "code",
   "execution_count": 22,
   "metadata": {
    "height": 234
   },
   "outputs": [],
   "source": [
    "planner = Agent(\n",
    "    role=\"Content Planner\",\n",
    "    goal=\"Plan engaging and factually accurate content on {topic}\",\n",
    "    backstory=\"You're working on planning a blog article \"\n",
    "              \"about the topic: {topic}.\"\n",
    "              \"You collect information that helps the \"\n",
    "              \"audience learn something \"\n",
    "              \"and make informed decisions. \"\n",
    "              \"Your work is the basis for \"\n",
    "              \"the Content Writer to write an article on this topic.\",\n",
    "    allow_delegation=False,\n",
    "\tverbose=True,\n",
    "    # llm=llm\n",
    ")"
   ]
  },
  {
   "cell_type": "markdown",
   "metadata": {},
   "source": [
    "### Agent: Writer"
   ]
  },
  {
   "cell_type": "code",
   "execution_count": 23,
   "metadata": {
    "height": 370
   },
   "outputs": [],
   "source": [
    "writer = Agent(\n",
    "    role=\"Content Writer\",\n",
    "    goal=\"Write insightful and factually accurate \"\n",
    "         \"opinion piece about the topic: {topic}\",\n",
    "    backstory=\"You're working on a writing \"\n",
    "              \"a new opinion piece about the topic: {topic}. \"\n",
    "              \"You base your writing on the work of \"\n",
    "              \"the Content Planner, who provides an outline \"\n",
    "              \"and relevant context about the topic. \"\n",
    "              \"You follow the main objectives and \"\n",
    "              \"direction of the outline, \"\n",
    "              \"as provide by the Content Planner. \"\n",
    "              \"You also provide objective and impartial insights \"\n",
    "              \"and back them up with information \"\n",
    "              \"provide by the Content Planner. \"\n",
    "              \"You acknowledge in your opinion piece \"\n",
    "              \"when your statements are opinions \"\n",
    "              \"as opposed to objective statements.\",\n",
    "    allow_delegation=False,\n",
    "    verbose=True,\n",
    "    # llm=llm\n",
    ")"
   ]
  },
  {
   "cell_type": "markdown",
   "metadata": {},
   "source": [
    "### Agent: Editor"
   ]
  },
  {
   "cell_type": "code",
   "execution_count": 24,
   "metadata": {
    "height": 268
   },
   "outputs": [],
   "source": [
    "editor = Agent(\n",
    "    role=\"Editor\",\n",
    "    goal=\"Edit a given blog post to align with \"\n",
    "         \"the writing style of the organization. \",\n",
    "    backstory=\"You are an editor who receives a blog post \"\n",
    "              \"from the Content Writer. \"\n",
    "              \"Your goal is to review the blog post \"\n",
    "              \"to ensure that it follows journalistic best practices,\"\n",
    "              \"provides balanced viewpoints \"\n",
    "              \"when providing opinions or assertions, \"\n",
    "              \"and also avoids major controversial topics \"\n",
    "              \"or opinions when possible.\",\n",
    "    allow_delegation=False,\n",
    "    verbose=True,\n",
    "    # llm=llm\n",
    ")"
   ]
  },
  {
   "cell_type": "markdown",
   "metadata": {},
   "source": [
    "## Creating Tasks\n",
    "\n",
    "- Define your Tasks, and provide them a `description`, `expected_output` and `agent`."
   ]
  },
  {
   "cell_type": "markdown",
   "metadata": {},
   "source": [
    "### Task: Plan"
   ]
  },
  {
   "cell_type": "code",
   "execution_count": 25,
   "metadata": {
    "height": 268
   },
   "outputs": [],
   "source": [
    "plan = Task(\n",
    "    description=(\n",
    "        \"1. Prioritize the latest trends, key players, \"\n",
    "            \"and noteworthy news on {topic}.\\n\"\n",
    "        \"2. Identify the target audience, considering \"\n",
    "            \"their interests and pain points.\\n\"\n",
    "        \"3. Develop a detailed content outline including \"\n",
    "            \"an introduction, key points, and a call to action.\\n\"\n",
    "        \"4. Include SEO keywords and relevant data or sources.\"\n",
    "    ),\n",
    "    expected_output=\"A comprehensive content plan document \"\n",
    "        \"with an outline, audience analysis, \"\n",
    "        \"SEO keywords, and resources.\",\n",
    "    agent=planner,\n",
    ")"
   ]
  },
  {
   "cell_type": "markdown",
   "metadata": {},
   "source": [
    "### Task: Write"
   ]
  },
  {
   "cell_type": "code",
   "execution_count": 26,
   "metadata": {
    "height": 319
   },
   "outputs": [],
   "source": [
    "write = Task(\n",
    "    description=(\n",
    "        \"1. Use the content plan to craft a compelling \"\n",
    "            \"blog post on {topic}.\\n\"\n",
    "        \"2. Incorporate SEO keywords naturally.\\n\"\n",
    "\t\t\"3. Sections/Subtitles are properly named \"\n",
    "            \"in an engaging manner.\\n\"\n",
    "        \"4. Ensure the post is structured with an \"\n",
    "            \"engaging introduction, insightful body, \"\n",
    "            \"and a summarizing conclusion.\\n\"\n",
    "        \"5. Proofread for grammatical errors and \"\n",
    "            \"alignment with the brand's voice.\\n\"\n",
    "    ),\n",
    "    expected_output=\"A well-written blog post \"\n",
    "        \"in markdown format, ready for publication, \"\n",
    "        \"each section should have 3 or 4 paragraphs.\",\n",
    "    agent=writer,\n",
    ")"
   ]
  },
  {
   "cell_type": "markdown",
   "metadata": {},
   "source": [
    "### Task: Edit"
   ]
  },
  {
   "cell_type": "code",
   "execution_count": 27,
   "metadata": {
    "height": 166
   },
   "outputs": [],
   "source": [
    "edit = Task(\n",
    "    description=(\"Proofread the given blog post for \"\n",
    "                 \"grammatical errors and \"\n",
    "                 \"alignment with the brand's voice.\"),\n",
    "    expected_output=\"A well-written blog post in markdown format, \"\n",
    "                    \"ready for publication, \"\n",
    "                    \"each section should have 3 or 4 paragraphs.\",\n",
    "    agent=editor\n",
    ")"
   ]
  },
  {
   "cell_type": "markdown",
   "metadata": {},
   "source": [
    "## Creating the Crew\n",
    "\n",
    "- Create your crew of Agents\n",
    "- Pass the tasks to be performed by those agents.\n",
    "    - **Note**: *For this simple example*, the tasks will be performed sequentially (i.e they are dependent on each other), so the _order_ of the task in the list _matters_.\n",
    "- `verbose=2` allows you to see all the logs of the execution. "
   ]
  },
  {
   "cell_type": "code",
   "execution_count": 30,
   "metadata": {
    "height": 98
   },
   "outputs": [
    {
     "name": "stderr",
     "output_type": "stream",
     "text": [
      "2024-05-23 12:01:03,701 - 139964733183040 - __init__.py-__init__:518 - WARNING: Overriding of current TracerProvider is not allowed\n"
     ]
    }
   ],
   "source": [
    "crew = Crew(\n",
    "    agents=[planner, writer, editor],\n",
    "    tasks=[plan, write, edit],\n",
    "    verbose=2\n",
    ")"
   ]
  },
  {
   "cell_type": "markdown",
   "metadata": {},
   "source": [
    "## Running the Crew"
   ]
  },
  {
   "cell_type": "markdown",
   "metadata": {},
   "source": [
    "**Note**: LLMs can provide different outputs for they same input, so what you get might be different than what you see in the video."
   ]
  },
  {
   "cell_type": "code",
   "execution_count": 12,
   "metadata": {
    "height": 30
   },
   "outputs": [
    {
     "name": "stdout",
     "output_type": "stream",
     "text": [
      "\u001b[1m\u001b[95m [DEBUG]: == Working Agent: Content Planner\u001b[00m\n",
      "\u001b[1m\u001b[95m [INFO]: == Starting Task: 1. Prioritize the latest trends, key players, and noteworthy news on Machine Learning in Education.\n",
      "2. Identify the target audience, considering their interests and pain points.\n",
      "3. Develop a detailed content outline including an introduction, key points, and a call to action.\n",
      "4. Include SEO keywords and relevant data or sources.\u001b[00m\n",
      "\n",
      "\n",
      "\u001b[1m> Entering new CrewAgentExecutor chain...\u001b[0m\n",
      "\u001b[32;1m\u001b[1;3mI now can give a great answer\n",
      "\n",
      "Final Answer:\n",
      "\n",
      "Content Plan: Machine Learning in Education\n",
      "\n",
      "Introduction:\n",
      "- Overview of Machine Learning in Education\n",
      "- Importance and benefits of implementing machine learning in educational settings\n",
      "- Brief mention of key players and recent trends in the field\n",
      "\n",
      "Key Points:\n",
      "1. Latest Trends in Machine Learning in Education:\n",
      "- Personalized learning experiences\n",
      "- Automated grading and feedback systems\n",
      "- Predictive analytics for student performance\n",
      "- Virtual tutors and chatbots for student support\n",
      "\n",
      "2. Key Players in the Industry:\n",
      "- Google Education\n",
      "- Microsoft Education\n",
      "- IBM Watson Education\n",
      "- Carnegie Learning\n",
      "- Knewton\n",
      "\n",
      "3. Noteworthy News in Machine Learning in Education:\n",
      "- Recent research studies on the effectiveness of machine learning in improving student outcomes\n",
      "- Implementation of machine learning algorithms in online learning platforms\n",
      "- Partnerships between educational institutions and tech companies for machine learning initiatives\n",
      "\n",
      "Audience Analysis:\n",
      "- Target Audience: Educators, school administrators, educational technology professionals\n",
      "- Interests: Integrating technology in education, improving student engagement and outcomes, staying updated on the latest trends in education\n",
      "- Pain Points: Time constraints in lesson planning and grading, difficulty in personalizing learning for each student, adapting to rapidly changing technology in education\n",
      "\n",
      "Content Outline:\n",
      "1. Introduction to Machine Learning in Education\n",
      "2. Latest Trends and Innovations\n",
      "3. Key Players in the Industry\n",
      "4. Noteworthy News and Research\n",
      "5. Benefits and Challenges of Implementing Machine Learning in Education\n",
      "6. Case Studies and Success Stories\n",
      "7. Call to Action: How to Incorporate Machine Learning in Educational Settings\n",
      "\n",
      "SEO Keywords:\n",
      "- Machine Learning in Education\n",
      "- AI in Education\n",
      "- EdTech Trends\n",
      "- Personalized Learning\n",
      "- Automated Grading\n",
      "- Student Performance Analytics\n",
      "\n",
      "Resources:\n",
      "1. \"Machine Learning in Education: A Comprehensive Guide\" - EdSurge\n",
      "2. \"The Future of Learning: How Machine Learning is Transforming Education\" - Forbes\n",
      "3. \"The Impact of Artificial Intelligence on Education\" - Harvard Business Review\n",
      "4. \"Case Studies in Machine Learning Applications in Education\" - International Journal of Educational Technology\n",
      "5. \"Implementing AI and Machine Learning in Schools\" - EdTech Magazine\n",
      "\n",
      "By following this comprehensive content plan, the blog article on Machine Learning in Education will provide valuable insights and information for the target audience, helping them make informed decisions on integrating machine learning technologies in educational settings.\u001b[0m\n",
      "\n",
      "\u001b[1m> Finished chain.\u001b[0m\n",
      "\u001b[1m\u001b[92m [DEBUG]: == [Content Planner] Task output: Content Plan: Machine Learning in Education\n",
      "\n",
      "Introduction:\n",
      "- Overview of Machine Learning in Education\n",
      "- Importance and benefits of implementing machine learning in educational settings\n",
      "- Brief mention of key players and recent trends in the field\n",
      "\n",
      "Key Points:\n",
      "1. Latest Trends in Machine Learning in Education:\n",
      "- Personalized learning experiences\n",
      "- Automated grading and feedback systems\n",
      "- Predictive analytics for student performance\n",
      "- Virtual tutors and chatbots for student support\n",
      "\n",
      "2. Key Players in the Industry:\n",
      "- Google Education\n",
      "- Microsoft Education\n",
      "- IBM Watson Education\n",
      "- Carnegie Learning\n",
      "- Knewton\n",
      "\n",
      "3. Noteworthy News in Machine Learning in Education:\n",
      "- Recent research studies on the effectiveness of machine learning in improving student outcomes\n",
      "- Implementation of machine learning algorithms in online learning platforms\n",
      "- Partnerships between educational institutions and tech companies for machine learning initiatives\n",
      "\n",
      "Audience Analysis:\n",
      "- Target Audience: Educators, school administrators, educational technology professionals\n",
      "- Interests: Integrating technology in education, improving student engagement and outcomes, staying updated on the latest trends in education\n",
      "- Pain Points: Time constraints in lesson planning and grading, difficulty in personalizing learning for each student, adapting to rapidly changing technology in education\n",
      "\n",
      "Content Outline:\n",
      "1. Introduction to Machine Learning in Education\n",
      "2. Latest Trends and Innovations\n",
      "3. Key Players in the Industry\n",
      "4. Noteworthy News and Research\n",
      "5. Benefits and Challenges of Implementing Machine Learning in Education\n",
      "6. Case Studies and Success Stories\n",
      "7. Call to Action: How to Incorporate Machine Learning in Educational Settings\n",
      "\n",
      "SEO Keywords:\n",
      "- Machine Learning in Education\n",
      "- AI in Education\n",
      "- EdTech Trends\n",
      "- Personalized Learning\n",
      "- Automated Grading\n",
      "- Student Performance Analytics\n",
      "\n",
      "Resources:\n",
      "1. \"Machine Learning in Education: A Comprehensive Guide\" - EdSurge\n",
      "2. \"The Future of Learning: How Machine Learning is Transforming Education\" - Forbes\n",
      "3. \"The Impact of Artificial Intelligence on Education\" - Harvard Business Review\n",
      "4. \"Case Studies in Machine Learning Applications in Education\" - International Journal of Educational Technology\n",
      "5. \"Implementing AI and Machine Learning in Schools\" - EdTech Magazine\n",
      "\n",
      "By following this comprehensive content plan, the blog article on Machine Learning in Education will provide valuable insights and information for the target audience, helping them make informed decisions on integrating machine learning technologies in educational settings.\n",
      "\n",
      "\u001b[00m\n",
      "\u001b[1m\u001b[95m [DEBUG]: == Working Agent: Content Writer\u001b[00m\n",
      "\u001b[1m\u001b[95m [INFO]: == Starting Task: 1. Use the content plan to craft a compelling blog post on Machine Learning in Education.\n",
      "2. Incorporate SEO keywords naturally.\n",
      "3. Sections/Subtitles are properly named in an engaging manner.\n",
      "4. Ensure the post is structured with an engaging introduction, insightful body, and a summarizing conclusion.\n",
      "5. Proofread for grammatical errors and alignment with the brand's voice.\n",
      "\u001b[00m\n",
      "\n",
      "\n",
      "\u001b[1m> Entering new CrewAgentExecutor chain...\u001b[0m\n",
      "\u001b[32;1m\u001b[1;3mI now can give a great answer\n",
      "\n",
      "Final Answer: \n",
      "\n",
      "# Machine Learning in Education: Revolutionizing the Learning Experience\n",
      "\n",
      "## Introduction to Machine Learning in Education\n",
      "\n",
      "Machine Learning, a subset of Artificial Intelligence (AI), has been making significant strides in transforming various industries, and education is no exception. By leveraging data analysis and algorithms, machine learning can personalize learning experiences, automate grading systems, provide predictive analytics for student performance, and even offer virtual tutors and chatbots for student support. With key players like Google Education, Microsoft Education, IBM Watson Education, Carnegie Learning, and Knewton leading the way, the integration of machine learning in educational settings is becoming increasingly prevalent.\n",
      "\n",
      "## Latest Trends and Innovations\n",
      "\n",
      "One of the most prominent trends in machine learning in education is the shift towards personalized learning experiences. By tailoring educational content to the individual needs and learning styles of students, machine learning can enhance engagement and improve outcomes. Additionally, automated grading and feedback systems save educators time and provide students with immediate insights into their performance. Predictive analytics for student performance help identify at-risk students early on, allowing for timely interventions. Virtual tutors and chatbots offer round-the-clock support to students, answering questions and providing guidance whenever needed.\n",
      "\n",
      "## Key Players in the Industry\n",
      "\n",
      "Google Education, Microsoft Education, IBM Watson Education, Carnegie Learning, and Knewton are at the forefront of integrating machine learning in education. These key players are driving innovation and shaping the future of learning with their cutting-edge technologies and solutions. By partnering with educational institutions and investing in research and development, these companies are paving the way for a more personalized and effective learning experience for students worldwide.\n",
      "\n",
      "## Noteworthy News and Research\n",
      "\n",
      "Recent research studies have highlighted the effectiveness of machine learning in improving student outcomes. By implementing machine learning algorithms in online learning platforms, educational institutions are seeing significant improvements in student engagement and achievement. Partnerships between schools and tech companies for machine learning initiatives are also on the rise, further accelerating the adoption of this technology in education.\n",
      "\n",
      "In conclusion, machine learning is revolutionizing the education sector by offering personalized learning experiences, automated grading systems, predictive analytics for student performance, and virtual support through tutors and chatbots. With key players like Google Education, Microsoft Education, IBM Watson Education, Carnegie Learning, and Knewton leading the way, the future of education is increasingly data-driven and tailored to individual student needs. By staying informed on the latest trends and innovations in machine learning in education, educators and educational technology professionals can effectively integrate these technologies into their teaching practices and improve student outcomes.\u001b[0m\n",
      "\n",
      "\u001b[1m> Finished chain.\u001b[0m\n",
      "\u001b[1m\u001b[92m [DEBUG]: == [Content Writer] Task output: # Machine Learning in Education: Revolutionizing the Learning Experience\n",
      "\n",
      "## Introduction to Machine Learning in Education\n",
      "\n",
      "Machine Learning, a subset of Artificial Intelligence (AI), has been making significant strides in transforming various industries, and education is no exception. By leveraging data analysis and algorithms, machine learning can personalize learning experiences, automate grading systems, provide predictive analytics for student performance, and even offer virtual tutors and chatbots for student support. With key players like Google Education, Microsoft Education, IBM Watson Education, Carnegie Learning, and Knewton leading the way, the integration of machine learning in educational settings is becoming increasingly prevalent.\n",
      "\n",
      "## Latest Trends and Innovations\n",
      "\n",
      "One of the most prominent trends in machine learning in education is the shift towards personalized learning experiences. By tailoring educational content to the individual needs and learning styles of students, machine learning can enhance engagement and improve outcomes. Additionally, automated grading and feedback systems save educators time and provide students with immediate insights into their performance. Predictive analytics for student performance help identify at-risk students early on, allowing for timely interventions. Virtual tutors and chatbots offer round-the-clock support to students, answering questions and providing guidance whenever needed.\n",
      "\n",
      "## Key Players in the Industry\n",
      "\n",
      "Google Education, Microsoft Education, IBM Watson Education, Carnegie Learning, and Knewton are at the forefront of integrating machine learning in education. These key players are driving innovation and shaping the future of learning with their cutting-edge technologies and solutions. By partnering with educational institutions and investing in research and development, these companies are paving the way for a more personalized and effective learning experience for students worldwide.\n",
      "\n",
      "## Noteworthy News and Research\n",
      "\n",
      "Recent research studies have highlighted the effectiveness of machine learning in improving student outcomes. By implementing machine learning algorithms in online learning platforms, educational institutions are seeing significant improvements in student engagement and achievement. Partnerships between schools and tech companies for machine learning initiatives are also on the rise, further accelerating the adoption of this technology in education.\n",
      "\n",
      "In conclusion, machine learning is revolutionizing the education sector by offering personalized learning experiences, automated grading systems, predictive analytics for student performance, and virtual support through tutors and chatbots. With key players like Google Education, Microsoft Education, IBM Watson Education, Carnegie Learning, and Knewton leading the way, the future of education is increasingly data-driven and tailored to individual student needs. By staying informed on the latest trends and innovations in machine learning in education, educators and educational technology professionals can effectively integrate these technologies into their teaching practices and improve student outcomes.\n",
      "\n",
      "\u001b[00m\n",
      "\u001b[1m\u001b[95m [DEBUG]: == Working Agent: Editor\u001b[00m\n",
      "\u001b[1m\u001b[95m [INFO]: == Starting Task: Proofread the given blog post for grammatical errors and alignment with the brand's voice.\u001b[00m\n",
      "\n",
      "\n",
      "\u001b[1m> Entering new CrewAgentExecutor chain...\u001b[0m\n",
      "\u001b[32;1m\u001b[1;3mI now can give a great answer\n",
      "\n",
      "Final Answer:\n",
      "\n",
      "# Machine Learning in Education: Revolutionizing the Learning Experience\n",
      "\n",
      "## Introduction to Machine Learning in Education\n",
      "\n",
      "Machine Learning, a subset of Artificial Intelligence (AI), has been making significant strides in transforming various industries, and education is no exception. By leveraging data analysis and algorithms, machine learning can personalize learning experiences, automate grading systems, provide predictive analytics for student performance, and even offer virtual tutors and chatbots for student support. With key players like Google Education, Microsoft Education, IBM Watson Education, Carnegie Learning, and Knewton leading the way, the integration of machine learning in educational settings is becoming increasingly prevalent.\n",
      "\n",
      "## Latest Trends and Innovations\n",
      "\n",
      "One of the most prominent trends in machine learning in education is the shift towards personalized learning experiences. By tailoring educational content to the individual needs and learning styles of students, machine learning can enhance engagement and improve outcomes. Additionally, automated grading and feedback systems save educators time and provide students with immediate insights into their performance. Predictive analytics for student performance help identify at-risk students early on, allowing for timely interventions. Virtual tutors and chatbots offer round-the-clock support to students, answering questions and providing guidance whenever needed.\n",
      "\n",
      "## Key Players in the Industry\n",
      "\n",
      "Google Education, Microsoft Education, IBM Watson Education, Carnegie Learning, and Knewton are at the forefront of integrating machine learning in education. These key players are driving innovation and shaping the future of learning with their cutting-edge technologies and solutions. By partnering with educational institutions and investing in research and development, these companies are paving the way for a more personalized and effective learning experience for students worldwide.\n",
      "\n",
      "## Noteworthy News and Research\n",
      "\n",
      "Recent research studies have highlighted the effectiveness of machine learning in improving student outcomes. By implementing machine learning algorithms in online learning platforms, educational institutions are seeing significant improvements in student engagement and achievement. Partnerships between schools and tech companies for machine learning initiatives are also on the rise, further accelerating the adoption of this technology in education.\n",
      "\n",
      "In conclusion, machine learning is revolutionizing the education sector by offering personalized learning experiences, automated grading systems, predictive analytics for student performance, and virtual support through tutors and chatbots. With key players like Google Education, Microsoft Education, IBM Watson Education, Carnegie Learning, and Knewton leading the way, the future of education is increasingly data-driven and tailored to individual student needs. By staying informed on the latest trends and innovations in machine learning in education, educators and educational technology professionals can effectively integrate these technologies into their teaching practices and improve student outcomes.\u001b[0m\n",
      "\n",
      "\u001b[1m> Finished chain.\u001b[0m\n",
      "\u001b[1m\u001b[92m [DEBUG]: == [Editor] Task output: # Machine Learning in Education: Revolutionizing the Learning Experience\n",
      "\n",
      "## Introduction to Machine Learning in Education\n",
      "\n",
      "Machine Learning, a subset of Artificial Intelligence (AI), has been making significant strides in transforming various industries, and education is no exception. By leveraging data analysis and algorithms, machine learning can personalize learning experiences, automate grading systems, provide predictive analytics for student performance, and even offer virtual tutors and chatbots for student support. With key players like Google Education, Microsoft Education, IBM Watson Education, Carnegie Learning, and Knewton leading the way, the integration of machine learning in educational settings is becoming increasingly prevalent.\n",
      "\n",
      "## Latest Trends and Innovations\n",
      "\n",
      "One of the most prominent trends in machine learning in education is the shift towards personalized learning experiences. By tailoring educational content to the individual needs and learning styles of students, machine learning can enhance engagement and improve outcomes. Additionally, automated grading and feedback systems save educators time and provide students with immediate insights into their performance. Predictive analytics for student performance help identify at-risk students early on, allowing for timely interventions. Virtual tutors and chatbots offer round-the-clock support to students, answering questions and providing guidance whenever needed.\n",
      "\n",
      "## Key Players in the Industry\n",
      "\n",
      "Google Education, Microsoft Education, IBM Watson Education, Carnegie Learning, and Knewton are at the forefront of integrating machine learning in education. These key players are driving innovation and shaping the future of learning with their cutting-edge technologies and solutions. By partnering with educational institutions and investing in research and development, these companies are paving the way for a more personalized and effective learning experience for students worldwide.\n",
      "\n",
      "## Noteworthy News and Research\n",
      "\n",
      "Recent research studies have highlighted the effectiveness of machine learning in improving student outcomes. By implementing machine learning algorithms in online learning platforms, educational institutions are seeing significant improvements in student engagement and achievement. Partnerships between schools and tech companies for machine learning initiatives are also on the rise, further accelerating the adoption of this technology in education.\n",
      "\n",
      "In conclusion, machine learning is revolutionizing the education sector by offering personalized learning experiences, automated grading systems, predictive analytics for student performance, and virtual support through tutors and chatbots. With key players like Google Education, Microsoft Education, IBM Watson Education, Carnegie Learning, and Knewton leading the way, the future of education is increasingly data-driven and tailored to individual student needs. By staying informed on the latest trends and innovations in machine learning in education, educators and educational technology professionals can effectively integrate these technologies into their teaching practices and improve student outcomes.\n",
      "\n",
      "\u001b[00m\n"
     ]
    }
   ],
   "source": [
    "result = crew.kickoff(inputs={\"topic\": \"Machine Learning in Education\"})"
   ]
  },
  {
   "cell_type": "markdown",
   "metadata": {},
   "source": [
    "- Display the results of your execution as markdown in the notebook."
   ]
  },
  {
   "cell_type": "code",
   "execution_count": 13,
   "metadata": {
    "height": 47
   },
   "outputs": [
    {
     "data": {
      "text/markdown": [
       "# Machine Learning in Education: Revolutionizing the Learning Experience\n",
       "\n",
       "## Introduction to Machine Learning in Education\n",
       "\n",
       "Machine Learning, a subset of Artificial Intelligence (AI), has been making significant strides in transforming various industries, and education is no exception. By leveraging data analysis and algorithms, machine learning can personalize learning experiences, automate grading systems, provide predictive analytics for student performance, and even offer virtual tutors and chatbots for student support. With key players like Google Education, Microsoft Education, IBM Watson Education, Carnegie Learning, and Knewton leading the way, the integration of machine learning in educational settings is becoming increasingly prevalent.\n",
       "\n",
       "## Latest Trends and Innovations\n",
       "\n",
       "One of the most prominent trends in machine learning in education is the shift towards personalized learning experiences. By tailoring educational content to the individual needs and learning styles of students, machine learning can enhance engagement and improve outcomes. Additionally, automated grading and feedback systems save educators time and provide students with immediate insights into their performance. Predictive analytics for student performance help identify at-risk students early on, allowing for timely interventions. Virtual tutors and chatbots offer round-the-clock support to students, answering questions and providing guidance whenever needed.\n",
       "\n",
       "## Key Players in the Industry\n",
       "\n",
       "Google Education, Microsoft Education, IBM Watson Education, Carnegie Learning, and Knewton are at the forefront of integrating machine learning in education. These key players are driving innovation and shaping the future of learning with their cutting-edge technologies and solutions. By partnering with educational institutions and investing in research and development, these companies are paving the way for a more personalized and effective learning experience for students worldwide.\n",
       "\n",
       "## Noteworthy News and Research\n",
       "\n",
       "Recent research studies have highlighted the effectiveness of machine learning in improving student outcomes. By implementing machine learning algorithms in online learning platforms, educational institutions are seeing significant improvements in student engagement and achievement. Partnerships between schools and tech companies for machine learning initiatives are also on the rise, further accelerating the adoption of this technology in education.\n",
       "\n",
       "In conclusion, machine learning is revolutionizing the education sector by offering personalized learning experiences, automated grading systems, predictive analytics for student performance, and virtual support through tutors and chatbots. With key players like Google Education, Microsoft Education, IBM Watson Education, Carnegie Learning, and Knewton leading the way, the future of education is increasingly data-driven and tailored to individual student needs. By staying informed on the latest trends and innovations in machine learning in education, educators and educational technology professionals can effectively integrate these technologies into their teaching practices and improve student outcomes."
      ],
      "text/plain": [
       "<IPython.core.display.Markdown object>"
      ]
     },
     "execution_count": 13,
     "metadata": {},
     "output_type": "execute_result"
    }
   ],
   "source": [
    "from IPython.display import Markdown\n",
    "Markdown(result)"
   ]
  },
  {
   "cell_type": "markdown",
   "metadata": {},
   "source": [
    "## Try it with huggingface\n",
    "\n",
    "- Pass in a topic of your choice and see what the agents come up with!"
   ]
  },
  {
   "cell_type": "code",
   "execution_count": 31,
   "metadata": {
    "height": 47
   },
   "outputs": [
    {
     "name": "stdout",
     "output_type": "stream",
     "text": [
      "\u001b[1m\u001b[95m [DEBUG]: == Working Agent: Content Planner\u001b[00m\n",
      "\u001b[1m\u001b[95m [INFO]: == Starting Task: 1. Prioritize the latest trends, key players, and noteworthy news on Machine Learning in High Education.\n",
      "2. Identify the target audience, considering their interests and pain points.\n",
      "3. Develop a detailed content outline including an introduction, key points, and a call to action.\n",
      "4. Include SEO keywords and relevant data or sources.\u001b[00m\n",
      "\n",
      "\n",
      "\u001b[1m> Entering new CrewAgentExecutor chain...\u001b[0m\n",
      "\u001b[32;1m\u001b[1;3mI now can give a great answer\n",
      "\n",
      "Final Answer:\n",
      "Content Plan: Machine Learning in High Education\n",
      "\n",
      "Title: The Impact of Machine Learning on Higher Education\n",
      "\n",
      "Outline:\n",
      "I. Introduction\n",
      "- Brief explanation of machine learning\n",
      "- Importance of machine learning in higher education\n",
      "- Thesis statement highlighting the benefits and challenges of implementing machine learning in high education\n",
      "\n",
      "II. Latest Trends in Machine Learning in Higher Education\n",
      "- Overview of current trends in machine learning technology\n",
      "- Examples of universities or institutions adopting machine learning in their educational programs\n",
      "- Case studies showcasing successful implementations of machine learning in high education\n",
      "\n",
      "III. Key Players in the Field of Machine Learning in Higher Education\n",
      "- Profiles of leading companies or organizations specializing in machine learning for education\n",
      "- Interviews with experts in the field of machine learning and education\n",
      "- Insights on the potential future impact of machine learning on higher education\n",
      "\n",
      "IV. Noteworthy News in Machine Learning and Higher Education\n",
      "- Updates on recent developments in machine learning technology for educational purposes\n",
      "- Analysis of research studies or reports on the effectiveness of machine learning in high education\n",
      "- Discussion of ethical considerations and privacy concerns related to machine learning in education\n",
      "\n",
      "V. Target Audience Analysis\n",
      "- Students: Interested in learning about how machine learning can enhance their educational experience\n",
      "- Educators: Seeking to understand the potential benefits and challenges of integrating machine learning into their teaching methods\n",
      "- Administrators: Exploring the possibilities of using machine learning to improve institutional operations and student outcomes\n",
      "\n",
      "VI. SEO Keywords\n",
      "- Machine learning in education\n",
      "- Artificial intelligence in higher education\n",
      "- Technology trends in universities\n",
      "- Data analytics in student learning\n",
      "- Innovations in educational technology\n",
      "\n",
      "VII. Resources\n",
      "- Research papers and articles on machine learning in higher education\n",
      "- Websites of leading companies providing machine learning solutions for education\n",
      "- Academic journals focusing on technology and education\n",
      "\n",
      "Call to Action:\n",
      "- Encourage readers to explore further resources on machine learning in higher education\n",
      "- Invite feedback and comments on the potential applications of machine learning in their own educational experiences\n",
      "\n",
      "Overall, this content plan aims to provide a comprehensive overview of the impact of machine learning on higher education, addressing the latest trends, key players, and noteworthy news in the field. By targeting a diverse audience and incorporating relevant SEO keywords and resources, this article will serve as a valuable resource for those interested in the intersection of technology and education.\u001b[0m\n",
      "\n",
      "\u001b[1m> Finished chain.\u001b[0m\n",
      "\u001b[1m\u001b[92m [DEBUG]: == [Content Planner] Task output: Content Plan: Machine Learning in High Education\n",
      "\n",
      "Title: The Impact of Machine Learning on Higher Education\n",
      "\n",
      "Outline:\n",
      "I. Introduction\n",
      "- Brief explanation of machine learning\n",
      "- Importance of machine learning in higher education\n",
      "- Thesis statement highlighting the benefits and challenges of implementing machine learning in high education\n",
      "\n",
      "II. Latest Trends in Machine Learning in Higher Education\n",
      "- Overview of current trends in machine learning technology\n",
      "- Examples of universities or institutions adopting machine learning in their educational programs\n",
      "- Case studies showcasing successful implementations of machine learning in high education\n",
      "\n",
      "III. Key Players in the Field of Machine Learning in Higher Education\n",
      "- Profiles of leading companies or organizations specializing in machine learning for education\n",
      "- Interviews with experts in the field of machine learning and education\n",
      "- Insights on the potential future impact of machine learning on higher education\n",
      "\n",
      "IV. Noteworthy News in Machine Learning and Higher Education\n",
      "- Updates on recent developments in machine learning technology for educational purposes\n",
      "- Analysis of research studies or reports on the effectiveness of machine learning in high education\n",
      "- Discussion of ethical considerations and privacy concerns related to machine learning in education\n",
      "\n",
      "V. Target Audience Analysis\n",
      "- Students: Interested in learning about how machine learning can enhance their educational experience\n",
      "- Educators: Seeking to understand the potential benefits and challenges of integrating machine learning into their teaching methods\n",
      "- Administrators: Exploring the possibilities of using machine learning to improve institutional operations and student outcomes\n",
      "\n",
      "VI. SEO Keywords\n",
      "- Machine learning in education\n",
      "- Artificial intelligence in higher education\n",
      "- Technology trends in universities\n",
      "- Data analytics in student learning\n",
      "- Innovations in educational technology\n",
      "\n",
      "VII. Resources\n",
      "- Research papers and articles on machine learning in higher education\n",
      "- Websites of leading companies providing machine learning solutions for education\n",
      "- Academic journals focusing on technology and education\n",
      "\n",
      "Call to Action:\n",
      "- Encourage readers to explore further resources on machine learning in higher education\n",
      "- Invite feedback and comments on the potential applications of machine learning in their own educational experiences\n",
      "\n",
      "Overall, this content plan aims to provide a comprehensive overview of the impact of machine learning on higher education, addressing the latest trends, key players, and noteworthy news in the field. By targeting a diverse audience and incorporating relevant SEO keywords and resources, this article will serve as a valuable resource for those interested in the intersection of technology and education.\n",
      "\n",
      "\u001b[00m\n",
      "\u001b[1m\u001b[95m [DEBUG]: == Working Agent: Content Writer\u001b[00m\n",
      "\u001b[1m\u001b[95m [INFO]: == Starting Task: 1. Use the content plan to craft a compelling blog post on Machine Learning in High Education.\n",
      "2. Incorporate SEO keywords naturally.\n",
      "3. Sections/Subtitles are properly named in an engaging manner.\n",
      "4. Ensure the post is structured with an engaging introduction, insightful body, and a summarizing conclusion.\n",
      "5. Proofread for grammatical errors and alignment with the brand's voice.\n",
      "\u001b[00m\n",
      "\n",
      "\n",
      "\u001b[1m> Entering new CrewAgentExecutor chain...\u001b[0m\n",
      "\u001b[32;1m\u001b[1;3mI now can give a great answer\n",
      "\n",
      "Final Answer:\n",
      "\n",
      "# The Impact of Machine Learning on Higher Education\n",
      "\n",
      "## Introduction\n",
      "In the rapidly evolving landscape of education, machine learning has emerged as a powerful tool with the potential to revolutionize the way students learn and educators teach. Machine learning, a subset of artificial intelligence that enables systems to learn and improve from experience without being explicitly programmed, holds great promise for higher education. By analyzing data, identifying patterns, and making predictions, machine learning can enhance personalized learning experiences, streamline administrative processes, and drive academic success. However, the implementation of machine learning in higher education also comes with its own set of benefits and challenges.\n",
      "\n",
      "## Latest Trends in Machine Learning in Higher Education\n",
      "Universities and institutions are increasingly incorporating machine learning technology into their educational programs to improve student outcomes and enhance the learning experience. From predictive analytics for student retention to personalized learning platforms, the applications of machine learning in higher education are diverse and impactful. Case studies showcasing successful implementations of machine learning highlight its potential to transform traditional teaching methods and improve student engagement and performance.\n",
      "\n",
      "## Key Players in the Field of Machine Learning in Higher Education\n",
      "Leading companies and organizations specializing in machine learning for education are at the forefront of innovation in the field. Through interviews with experts in the intersection of machine learning and education, insights into the potential future impact of machine learning on higher education can be gained. These key players are driving advancements in educational technology and shaping the future of learning.\n",
      "\n",
      "## Noteworthy News in Machine Learning and Higher Education\n",
      "Recent developments in machine learning technology for educational purposes are continuously shaping the landscape of higher education. Research studies and reports on the effectiveness of machine learning in high education provide valuable insights into its impact on student learning outcomes. Ethical considerations and privacy concerns related to machine learning in education are also critical aspects that need to be addressed to ensure responsible and equitable use of technology in learning environments.\n",
      "\n",
      "## Target Audience Analysis\n",
      "Students, educators, and administrators are the primary target audience for exploring the potential applications of machine learning in higher education. Students are interested in leveraging technology to enhance their educational experience, while educators seek to understand how machine learning can improve their teaching methods. Administrators are exploring the possibilities of using machine learning to optimize institutional operations and drive better student outcomes.\n",
      "\n",
      "## SEO Keywords\n",
      "Machine learning in education, Artificial intelligence in higher education, Technology trends in universities, Data analytics in student learning, Innovations in educational technology\n",
      "\n",
      "## Resources\n",
      "Research papers, articles, and academic journals focusing on machine learning in higher education provide valuable insights into the latest trends and developments in the field. Websites of leading companies providing machine learning solutions for education offer practical resources and case studies for educators and administrators. By exploring these resources, readers can deepen their understanding of the potential impact of machine learning on higher education.\n",
      "\n",
      "## Call to Action\n",
      "I encourage readers to explore further resources on machine learning in higher education to stay informed about the latest advancements in educational technology. Your feedback and comments on the potential applications of machine learning in your own educational experiences are invaluable in shaping the future of learning. Let's continue to explore the intersection of technology and education to drive innovation and excellence in higher education.\u001b[0m\n",
      "\n",
      "\u001b[1m> Finished chain.\u001b[0m\n",
      "\u001b[1m\u001b[92m [DEBUG]: == [Content Writer] Task output: # The Impact of Machine Learning on Higher Education\n",
      "\n",
      "## Introduction\n",
      "In the rapidly evolving landscape of education, machine learning has emerged as a powerful tool with the potential to revolutionize the way students learn and educators teach. Machine learning, a subset of artificial intelligence that enables systems to learn and improve from experience without being explicitly programmed, holds great promise for higher education. By analyzing data, identifying patterns, and making predictions, machine learning can enhance personalized learning experiences, streamline administrative processes, and drive academic success. However, the implementation of machine learning in higher education also comes with its own set of benefits and challenges.\n",
      "\n",
      "## Latest Trends in Machine Learning in Higher Education\n",
      "Universities and institutions are increasingly incorporating machine learning technology into their educational programs to improve student outcomes and enhance the learning experience. From predictive analytics for student retention to personalized learning platforms, the applications of machine learning in higher education are diverse and impactful. Case studies showcasing successful implementations of machine learning highlight its potential to transform traditional teaching methods and improve student engagement and performance.\n",
      "\n",
      "## Key Players in the Field of Machine Learning in Higher Education\n",
      "Leading companies and organizations specializing in machine learning for education are at the forefront of innovation in the field. Through interviews with experts in the intersection of machine learning and education, insights into the potential future impact of machine learning on higher education can be gained. These key players are driving advancements in educational technology and shaping the future of learning.\n",
      "\n",
      "## Noteworthy News in Machine Learning and Higher Education\n",
      "Recent developments in machine learning technology for educational purposes are continuously shaping the landscape of higher education. Research studies and reports on the effectiveness of machine learning in high education provide valuable insights into its impact on student learning outcomes. Ethical considerations and privacy concerns related to machine learning in education are also critical aspects that need to be addressed to ensure responsible and equitable use of technology in learning environments.\n",
      "\n",
      "## Target Audience Analysis\n",
      "Students, educators, and administrators are the primary target audience for exploring the potential applications of machine learning in higher education. Students are interested in leveraging technology to enhance their educational experience, while educators seek to understand how machine learning can improve their teaching methods. Administrators are exploring the possibilities of using machine learning to optimize institutional operations and drive better student outcomes.\n",
      "\n",
      "## SEO Keywords\n",
      "Machine learning in education, Artificial intelligence in higher education, Technology trends in universities, Data analytics in student learning, Innovations in educational technology\n",
      "\n",
      "## Resources\n",
      "Research papers, articles, and academic journals focusing on machine learning in higher education provide valuable insights into the latest trends and developments in the field. Websites of leading companies providing machine learning solutions for education offer practical resources and case studies for educators and administrators. By exploring these resources, readers can deepen their understanding of the potential impact of machine learning on higher education.\n",
      "\n",
      "## Call to Action\n",
      "I encourage readers to explore further resources on machine learning in higher education to stay informed about the latest advancements in educational technology. Your feedback and comments on the potential applications of machine learning in your own educational experiences are invaluable in shaping the future of learning. Let's continue to explore the intersection of technology and education to drive innovation and excellence in higher education.\n",
      "\n",
      "\u001b[00m\n",
      "\u001b[1m\u001b[95m [DEBUG]: == Working Agent: Editor\u001b[00m\n",
      "\u001b[1m\u001b[95m [INFO]: == Starting Task: Proofread the given blog post for grammatical errors and alignment with the brand's voice.\u001b[00m\n",
      "\n",
      "\n",
      "\u001b[1m> Entering new CrewAgentExecutor chain...\u001b[0m\n",
      "\u001b[32;1m\u001b[1;3mI now can give a great answer\n",
      "\n",
      "Final Answer:\n",
      "\n",
      "# The Impact of Machine Learning on Higher Education\n",
      "\n",
      "In the rapidly evolving landscape of education, machine learning has emerged as a powerful tool with the potential to revolutionize the way students learn and educators teach. Machine learning, a subset of artificial intelligence that enables systems to learn and improve from experience without being explicitly programmed, holds great promise for higher education. By analyzing data, identifying patterns, and making predictions, machine learning can enhance personalized learning experiences, streamline administrative processes, and drive academic success. However, the implementation of machine learning in higher education also comes with its own set of benefits and challenges.\n",
      "\n",
      "Universities and institutions are increasingly incorporating machine learning technology into their educational programs to improve student outcomes and enhance the learning experience. From predictive analytics for student retention to personalized learning platforms, the applications of machine learning in higher education are diverse and impactful. Case studies showcasing successful implementations of machine learning highlight its potential to transform traditional teaching methods and improve student engagement and performance.\n",
      "\n",
      "Leading companies and organizations specializing in machine learning for education are at the forefront of innovation in the field. Through interviews with experts in the intersection of machine learning and education, insights into the potential future impact of machine learning on higher education can be gained. These key players are driving advancements in educational technology and shaping the future of learning.\n",
      "\n",
      "Recent developments in machine learning technology for educational purposes are continuously shaping the landscape of higher education. Research studies and reports on the effectiveness of machine learning in higher education provide valuable insights into its impact on student learning outcomes. Ethical considerations and privacy concerns related to machine learning in education are also critical aspects that need to be addressed to ensure responsible and equitable use of technology in learning environments.\n",
      "\n",
      "Students, educators, and administrators are the primary target audience for exploring the potential applications of machine learning in higher education. Students are interested in leveraging technology to enhance their educational experience, while educators seek to understand how machine learning can improve their teaching methods. Administrators are exploring the possibilities of using machine learning to optimize institutional operations and drive better student outcomes.\n",
      "\n",
      "Research papers, articles, and academic journals focusing on machine learning in higher education provide valuable insights into the latest trends and developments in the field. Websites of leading companies providing machine learning solutions for education offer practical resources and case studies for educators and administrators. By exploring these resources, readers can deepen their understanding of the potential impact of machine learning on higher education.\n",
      "\n",
      "I encourage readers to explore further resources on machine learning in higher education to stay informed about the latest advancements in educational technology. Your feedback and comments on the potential applications of machine learning in your own educational experiences are invaluable in shaping the future of learning. Let's continue to explore the intersection of technology and education to drive innovation and excellence in higher education.\u001b[0m\n",
      "\n",
      "\u001b[1m> Finished chain.\u001b[0m\n",
      "\u001b[1m\u001b[92m [DEBUG]: == [Editor] Task output: # The Impact of Machine Learning on Higher Education\n",
      "\n",
      "In the rapidly evolving landscape of education, machine learning has emerged as a powerful tool with the potential to revolutionize the way students learn and educators teach. Machine learning, a subset of artificial intelligence that enables systems to learn and improve from experience without being explicitly programmed, holds great promise for higher education. By analyzing data, identifying patterns, and making predictions, machine learning can enhance personalized learning experiences, streamline administrative processes, and drive academic success. However, the implementation of machine learning in higher education also comes with its own set of benefits and challenges.\n",
      "\n",
      "Universities and institutions are increasingly incorporating machine learning technology into their educational programs to improve student outcomes and enhance the learning experience. From predictive analytics for student retention to personalized learning platforms, the applications of machine learning in higher education are diverse and impactful. Case studies showcasing successful implementations of machine learning highlight its potential to transform traditional teaching methods and improve student engagement and performance.\n",
      "\n",
      "Leading companies and organizations specializing in machine learning for education are at the forefront of innovation in the field. Through interviews with experts in the intersection of machine learning and education, insights into the potential future impact of machine learning on higher education can be gained. These key players are driving advancements in educational technology and shaping the future of learning.\n",
      "\n",
      "Recent developments in machine learning technology for educational purposes are continuously shaping the landscape of higher education. Research studies and reports on the effectiveness of machine learning in higher education provide valuable insights into its impact on student learning outcomes. Ethical considerations and privacy concerns related to machine learning in education are also critical aspects that need to be addressed to ensure responsible and equitable use of technology in learning environments.\n",
      "\n",
      "Students, educators, and administrators are the primary target audience for exploring the potential applications of machine learning in higher education. Students are interested in leveraging technology to enhance their educational experience, while educators seek to understand how machine learning can improve their teaching methods. Administrators are exploring the possibilities of using machine learning to optimize institutional operations and drive better student outcomes.\n",
      "\n",
      "Research papers, articles, and academic journals focusing on machine learning in higher education provide valuable insights into the latest trends and developments in the field. Websites of leading companies providing machine learning solutions for education offer practical resources and case studies for educators and administrators. By exploring these resources, readers can deepen their understanding of the potential impact of machine learning on higher education.\n",
      "\n",
      "I encourage readers to explore further resources on machine learning in higher education to stay informed about the latest advancements in educational technology. Your feedback and comments on the potential applications of machine learning in your own educational experiences are invaluable in shaping the future of learning. Let's continue to explore the intersection of technology and education to drive innovation and excellence in higher education.\n",
      "\n",
      "\u001b[00m\n"
     ]
    }
   ],
   "source": [
    "result = crew.kickoff(inputs={\"topic\": \"Machine Learning in High Education\"})"
   ]
  },
  {
   "cell_type": "code",
   "execution_count": 32,
   "metadata": {
    "height": 30
   },
   "outputs": [
    {
     "data": {
      "text/markdown": [
       "# The Impact of Machine Learning on Higher Education\n",
       "\n",
       "In the rapidly evolving landscape of education, machine learning has emerged as a powerful tool with the potential to revolutionize the way students learn and educators teach. Machine learning, a subset of artificial intelligence that enables systems to learn and improve from experience without being explicitly programmed, holds great promise for higher education. By analyzing data, identifying patterns, and making predictions, machine learning can enhance personalized learning experiences, streamline administrative processes, and drive academic success. However, the implementation of machine learning in higher education also comes with its own set of benefits and challenges.\n",
       "\n",
       "Universities and institutions are increasingly incorporating machine learning technology into their educational programs to improve student outcomes and enhance the learning experience. From predictive analytics for student retention to personalized learning platforms, the applications of machine learning in higher education are diverse and impactful. Case studies showcasing successful implementations of machine learning highlight its potential to transform traditional teaching methods and improve student engagement and performance.\n",
       "\n",
       "Leading companies and organizations specializing in machine learning for education are at the forefront of innovation in the field. Through interviews with experts in the intersection of machine learning and education, insights into the potential future impact of machine learning on higher education can be gained. These key players are driving advancements in educational technology and shaping the future of learning.\n",
       "\n",
       "Recent developments in machine learning technology for educational purposes are continuously shaping the landscape of higher education. Research studies and reports on the effectiveness of machine learning in higher education provide valuable insights into its impact on student learning outcomes. Ethical considerations and privacy concerns related to machine learning in education are also critical aspects that need to be addressed to ensure responsible and equitable use of technology in learning environments.\n",
       "\n",
       "Students, educators, and administrators are the primary target audience for exploring the potential applications of machine learning in higher education. Students are interested in leveraging technology to enhance their educational experience, while educators seek to understand how machine learning can improve their teaching methods. Administrators are exploring the possibilities of using machine learning to optimize institutional operations and drive better student outcomes.\n",
       "\n",
       "Research papers, articles, and academic journals focusing on machine learning in higher education provide valuable insights into the latest trends and developments in the field. Websites of leading companies providing machine learning solutions for education offer practical resources and case studies for educators and administrators. By exploring these resources, readers can deepen their understanding of the potential impact of machine learning on higher education.\n",
       "\n",
       "I encourage readers to explore further resources on machine learning in higher education to stay informed about the latest advancements in educational technology. Your feedback and comments on the potential applications of machine learning in your own educational experiences are invaluable in shaping the future of learning. Let's continue to explore the intersection of technology and education to drive innovation and excellence in higher education."
      ],
      "text/plain": [
       "<IPython.core.display.Markdown object>"
      ]
     },
     "execution_count": 32,
     "metadata": {},
     "output_type": "execute_result"
    }
   ],
   "source": [
    "from IPython.display import Markdown\n",
    "Markdown(result)"
   ]
  },
  {
   "cell_type": "markdown",
   "metadata": {},
   "source": [
    "<a name='1'></a>\n",
    " ## Other Popular Models as LLM for your Agents"
   ]
  },
  {
   "cell_type": "markdown",
   "metadata": {},
   "source": [
    "#### Hugging Face (HuggingFaceHub endpoint)\n",
    "\n",
    "```Python\n",
    "from langchain_community.llms import HuggingFaceHub\n",
    "\n",
    "llm = HuggingFaceHub(\n",
    "    repo_id=\"HuggingFaceH4/zephyr-7b-beta\",\n",
    "    huggingfacehub_api_token=\"<HF_TOKEN_HERE>\",\n",
    "    task=\"text-generation\",\n",
    ")\n",
    "\n",
    "### you will pass \"llm\" to your agent function\n",
    "```"
   ]
  },
  {
   "cell_type": "markdown",
   "metadata": {},
   "source": [
    "#### Mistral API\n",
    "\n",
    "```Python\n",
    "OPENAI_API_KEY=your-mistral-api-key\n",
    "OPENAI_API_BASE=https://api.mistral.ai/v1\n",
    "OPENAI_MODEL_NAME=\"mistral-small\"\n",
    "```"
   ]
  },
  {
   "cell_type": "markdown",
   "metadata": {},
   "source": [
    "#### Cohere\n",
    "\n",
    "```Python\n",
    "from langchain_community.chat_models import ChatCohere\n",
    "# Initialize language model\n",
    "os.environ[\"COHERE_API_KEY\"] = \"your-cohere-api-key\"\n",
    "llm = ChatCohere()\n",
    "\n",
    "### you will pass \"llm\" to your agent function\n",
    "```"
   ]
  },
  {
   "cell_type": "markdown",
   "metadata": {},
   "source": [
    "### For using Llama locally with Ollama and more, checkout the crewAI documentation on [Connecting to any LLM](https://docs.crewai.com/how-to/LLM-Connections/)."
   ]
  },
  {
   "cell_type": "code",
   "execution_count": null,
   "metadata": {
    "height": 30
   },
   "outputs": [],
   "source": []
  },
  {
   "cell_type": "code",
   "execution_count": null,
   "metadata": {
    "height": 30
   },
   "outputs": [],
   "source": []
  },
  {
   "cell_type": "code",
   "execution_count": null,
   "metadata": {
    "height": 30
   },
   "outputs": [],
   "source": []
  }
 ],
 "metadata": {
  "colab": {
   "gpuType": "T4",
   "provenance": []
  },
  "kernelspec": {
   "display_name": "Python 3 (ipykernel)",
   "language": "python",
   "name": "python3"
  },
  "language_info": {
   "codemirror_mode": {
    "name": "ipython",
    "version": 3
   },
   "file_extension": ".py",
   "mimetype": "text/x-python",
   "name": "python",
   "nbconvert_exporter": "python",
   "pygments_lexer": "ipython3",
   "version": "3.12.3"
  }
 },
 "nbformat": 4,
 "nbformat_minor": 4
}
